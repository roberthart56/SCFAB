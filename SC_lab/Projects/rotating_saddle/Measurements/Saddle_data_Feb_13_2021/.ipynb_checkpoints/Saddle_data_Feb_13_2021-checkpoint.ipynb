{
 "cells": [
  {
   "cell_type": "code",
   "execution_count": 10,
   "metadata": {},
   "outputs": [
    {
     "name": "stdout",
     "output_type": "stream",
     "text": [
      "1.52\n",
      "1.64\n",
      "9.699999999999998\n",
      "15.133333333333335\n",
      "15.8\n",
      "13.266666666666666\n",
      "6.514285714285714\n",
      "3.1888888888888887\n",
      "2.5374999999999996\n",
      "2.8555555555555556\n",
      "8.342857142857143\n",
      "2.4000000000000004\n",
      "2.0428571428571427\n"
     ]
    },
    {
     "data": {
      "image/png": "[encoded data removed]",
      "text/plain": [
       "<Figure size 864x576 with 1 Axes>"
      ]
     },
     "metadata": {
      "needs_background": "light"
     },
     "output_type": "display_data"
    }
   ],
   "source": [
    "import numpy as np\n",
    "import matplotlib.pyplot as plt\n",
    "\n",
    "    #Data for P2 with liquid nitrogen drops\n",
    "rps_1 = np.array([0.950, 1.030, 1.155, 1.201, 1.292, 1.379, 1.657, 1.858, 2.060, 1.107, 1.520, 2.531, 3.01])\n",
    "times_1 = [[1.6, 1.3, 1.8, 1.4, 1.5],     #list created from lists of varying length\n",
    "              [1.4, 1.5, 1.4, 1.8, 2.1],\n",
    "              [7.0, 8.4, 8.0, 8.7, 12.8, 13.3],\n",
    "              [17.1, 10.3, 13.8, 16.3, 16.7, 16.6],\n",
    "              [15.7, 15.3, 17.0, 14.9, 16.1],\n",
    "              [10.0, 13.6, 11.7, 19.2, 13.0, 12.1],\n",
    "              [4.6, 7.9, 2.9, 7.7, 6.7, 7.3, 8.5],\n",
    "              [2.8, 2.3, 3.1, 4.0, 5.1, 2.1, 1.7, 2.6, 5.0],\n",
    "              [1.8, 3.2, 2.4, 2.7, 2.7, 1.9, 3.0, 2.6],\n",
    "              [2.1, 5.7, 2.3, 2.7, 2.1, 2.9, 2.9, 2.2, 2.8],\n",
    "              [7.3, 6.4, 7.3, 8.3, 12.1, 8.0, 9.0],\n",
    "              [6.4, 2.2, 2.8, 1.8, 2.0, 1.8, 2.0, 1.3, 1.6, 1.6, 2.9],\n",
    "          [1.0, 2.2, 3.0, 2.4, 1.6, 1.5, 2.6]]\n",
    "mean_times_1=np.array([])\n",
    "error_bars_1 = np.array([])\n",
    "for i in range(len(rps_1)):\n",
    "    print(np.mean(times_1[i]))\n",
    "    mean_times_1 = np.append(mean_times_1, np.mean(times_1[i]))\n",
    "    error_bars_1 = np.append(error_bars_1, np.std(times_1[i]))\n",
    "\n",
    "    \n",
    "    \n",
    "    \n",
    "    #data for p3 with liquid nitrogen drops.\n",
    "    \n",
    "rps_2 = np.array([0.871, 1.025, 1.085, 1.150, 1.212, 1.278, 1.364, 1.495, 1.649, 1.903, 2.109, 2.440, 2.756, 3.214, 3.586, 4.03])\n",
    "times_2 = [[1.1, 1.5, 1.6, 4.0, 1.6, 1.5, 2.1],\n",
    "                        [1.6, 1.6, 1.4, 2.2, 1.9, 1.6],\n",
    "                        [1.3, 2.0, 2.8, 3.5, 2.4, 3.5],\n",
    "                        [13.0, 14.0, 12.0, 10.7, 5.0, 9.4, 10.9],\n",
    "                        [15.0, 12.8, 12.8, 25.8, 15.0, 12.8, 23.7],\n",
    "                        [15.7, 20.9, 20.7, 16.2, 23.8, 20.2],\n",
    "                        [23.9, 29.3, 21.6, 19.2, 16.5, 14.0],\n",
    "                        [24.3, 26.5, 18.8, 17.8, 22.3, 21.6],\n",
    "                        [20.0, 13.1, 20.1, 17.0, 15.9, 20.8, 21.8, 22.1],\n",
    "                        [15.1, 16.5, 20.9, 10.3, 28.5, 28.6, 27.1],\n",
    "                        [18.0, 12.7, 14.3, 13.2, 13.6, 16.5, 16.4, 10.7, 22.0],\n",
    "                        [14.3, 9.4, 19.0, 12.4, 9.4, 17.4, 12.3, 14.4],\n",
    "                        [17.6, 9.5, 14.4, 16.6, 11.7, 11.3, 11.1],\n",
    "                        [11.2, 13.9, 21.5, 3.6, 13.4, 10.2, 11.5],\n",
    "                        [9.6, 11.1, 9.4, 16.5, 8.1, 10.8],\n",
    "                        [5.7, 5.1, 3.5, 5.5, 6.8, 4.5, 11.0, 4.4, 10.2]]\n",
    "\n",
    "mean_times_2=np.array([])\n",
    "error_bars_2 = np.array([]),\n",
    "\n",
    "for i in range(len(rps_2)):\n",
    "#print(np.mean(times_2[i]))\n",
    "    mean_times_2 = np.append(mean_times_2, np.mean(times_2[i]))\n",
    "    error_bars_2 = np.append(error_bars_2, np.std(times_2[i]))\n",
    "\n",
    "#data for p4 with liquid nitrogen drops.\n",
    "    \n",
    "rps_3 = np.array([0.955, 1.086,  1.158, 1.216, 1.248, 1.302, 1.352, 1.408, 1.515, 1.676, 1.799, 2.070, 2.560 ])\n",
    "times_3 = [[1.2, 0.6, 1.2, 1.2, 0.5, 0.5, 0.9],\n",
    "           [0.8, 1.3, 1.1, 1.5, 2.6, 1.9, 1.3, 1.8, 1.5],\n",
    "           [2.1, 1.6, 2.0, 2.7, 2.3, 1.9, 1.7, 2.3, 3.0, 2.6, 2.7, 2.9, 1.3, 2.3, 1.9],\n",
    "               [3.2, 2.0, 2.7, 1.6, 2.7, 1.9, 2.8, 1.8, 3.7, 3.4, 2.2, 1.8, 2.2, 3.4, 3.4, 1.4],\n",
    "               [1.8, 2.1, 1.7, 1.7, 1.5, 1.7, 2.0, 1.6, 1.2, 2.2, 2.0, 2.1, 2.2],\n",
    "               [1.5, 2.1, 1.1, 3.3, 1.5, 2.0, 1.3, 2.1, 1.9, 1.7, 1.5, 1.5, 1.7],\n",
    "               [1.7, 1.3, 1.5, 1.8, 1.5, 1.5, 0.9, 2.2, 1.7, 1.6, 1.5, 2.7, 1.6],\n",
    "               [1.4, 1.8, 1.1, 2.2, 1.1, 1.9, 1.8, 1.7, 1.3, 1.7, 1.7, 1.7, 1.6],\n",
    "               [1.1, 1.1, 1.5, 1.5, 1.5, 1.8, 1.3, 1.3, 1.4, 1.4, 1.5, 1.3],\n",
    "               [1.1, 2.7, 1.5, 2.6, 1.4, 1.0, 1.0, 1.1, 1.1, 0.9, 1.1, 0.9],\n",
    "               [1.0, 0.6, 1.4, 1.2, 1.1, 1.0, 1.8, 1.1, 0.9, 0.9, 0.9, 0.9, 1.3, 1.3, 0.9],\n",
    "               [1.0, 0.9, 0.7, 0.7, 1.0, 0.8, 0.6, 0.6, 0.9, 0.7, 0.9, 2.0, 0.7],\n",
    "               [0.7, 0.7, 0.7, 0.9, 0.6, 1.0, 0.9, 0.7, 0.6, 0.5, 0.9, 0.9] ]\n",
    "    \n",
    "mean_times_3=np.array([])\n",
    "error_bars_3 = np.array([]),\n",
    "\n",
    "for i in range(len(rps_3)):\n",
    "    #print(np.mean(times_3[i]))\n",
    "    mean_times_3= np.append(mean_times_3, np.mean(times_3[i]))\n",
    "    error_bars_3 = np.append(error_bars_3, np.std(times_3[i]))\n",
    "\n",
    "\n",
    "       #data for p5 with liquid nitrogen drops.\n",
    "\n",
    "rps_4 = np.array([0.956, 1.061, 1.141, 1.200, 1.242, 1.271, 1.318, 1.391, 1.447, 1.528, 1.612, 1.751, 1.975, 2.510 ])\n",
    "times_4 = [[0.93,1.2, 1.0, 0.7, 0.8, 0.9, 0.8, 1.0],\n",
    "           [2.2, 1.5, 1.2, 1.0, 1.7, 1.7, 1.5, 1.3, 1.2, 1.2],\n",
    "           [2.2, 3.0, 2.9, 3.7, 2.4, 1.3, 3.3, 1.3, 3.4, 4.5, 2.0, 3.0],\n",
    "           [9.8, 10.9, 10.1, 8.4, 10.1, 12.4, 7.0, 6.0, 6.6, 7.6],\n",
    "           [7.8, 7.6, 7.1, 8.3, 6.0, 5.6, 7.5, 6.1, 6.6, 8.5, 12.2, 8.1],\n",
    "               [4.9, 11.6, 7.6, 7.3, 7.5, 7.5, 6.6, 7.0, 4.3, 8.6, 8.3, 8.9],\n",
    "               [6.2, 5.8, 5.4, 6.4, 5.5, 4.8, 6.0, 3.9, 4.3, 5.6, 8.0, 3.3],\n",
    "               [4.1, 2.4, 4.5, 3.1, 4.9, 5.9, 3.1, 10.6, 2.3, 4.1, 4.3, 6.0, 3.9, 4.5],\n",
    "               [3.0, 1.8, 1.7, 3.5, 1.7, 7.3, 6.5, 2.9, 3.9, 4.2, 4.1, 3.6],\n",
    "               [3.2, 2.4, 2.0, 3.9, 2.3, 2.5, 3.9, 2.0, 1.7, 3.4, 3.0],\n",
    "               [1.9, 2.7, 1.8, 2.4, 2.6, 1.9, 1.9, 2.9, 2.5, 2.7, 1.7, 2.3],\n",
    "               [1.7, 1.5, 1.4, 1.8, 2.1, 1.4, 1.7, 0.9, 2.3, 2.1, 1.7, 2.2],\n",
    "               [1.5, 1.7, 1.8, 1.9, 1.7, 1.5, 1.7, 1.4, 2.6, 1.5, 1.6, 2.0],\n",
    "               [1.1, 1.2, 1.7, 1.3, 1.5, 1.2, 1.1, 1.5, 1.6, 1.6, 1.3, 1.5]]\n",
    "               \n",
    "                    \n",
    "\n",
    "mean_times_4 = np.array([])\n",
    "error_bars_4 = np.array([]),\n",
    "\n",
    "for i in range(len(rps_4)):\n",
    "    #print(np.mean(times_3[i]))\n",
    "    mean_times_4 = np.append(mean_times_4, np.mean(times_4[i]))\n",
    "    error_bars_4 = np.append(error_bars_4, np.std(times_4[i]))\n",
    "\n",
    "\n",
    "        \n",
    "\n",
    "fig = plt.figure(figsize=(12, 8))\n",
    "plt.title('Normalized LN2 trapping time vs. frequency (BRYG in order of decreasing Beta)')\n",
    "plt.xlabel('Rotation speed (RPS)')\n",
    "plt.ylabel('Normalized trapping time')\n",
    "\n",
    "plt.errorbar(rps_1, mean_times_1,   yerr=error_bars_1, fmt='or')\n",
    "plt.errorbar(rps_2, mean_times_2,   yerr=error_bars_2, fmt='ob')\n",
    "plt.errorbar(rps_3, mean_times_3,   yerr=error_bars_3, fmt='og')\n",
    "plt.errorbar(rps_4, mean_times_4,   yerr=error_bars_4, fmt='oy')\n",
    "\n",
    "#plt.plot(rps_1, mean_times_1, 'ro')\n",
    "plt.show()\n",
    "\n",
    "\n"
   ]
  },
  {
   "cell_type": "markdown",
   "metadata": {
    "scrolled": true
   },
   "source": [
    "mean_times_2"
   ]
  },
  {
   "cell_type": "code",
   "execution_count": 8,
   "metadata": {},
   "outputs": [
    {
     "data": {
      "text/plain": [
       "(array([0.91625   , 1.45      , 2.75      , 8.89      , 7.61666667,\n",
       "        7.50833333, 5.43333333, 4.55      , 3.68333333, 2.75454545,\n",
       "        2.275     , 1.73333333, 1.74166667, 1.38333333]),\n",
       " array([0.956, 1.061, 1.141, 1.2  , 1.242, 1.271, 1.318, 1.391, 1.447,\n",
       "        1.528, 1.612, 1.751, 1.975, 2.51 ]))"
      ]
     },
     "execution_count": 8,
     "metadata": {},
     "output_type": "execute_result"
    }
   ],
   "source": [
    "mean_times_4, rps_4"
   ]
  },
  {
   "cell_type": "code",
   "execution_count": null,
   "metadata": {},
   "outputs": [],
   "source": []
  }
 ],
 "metadata": {
  "kernelspec": {
   "display_name": "Python 3",
   "language": "python",
   "name": "python3"
  },
  "language_info": {
   "codemirror_mode": {
    "name": "ipython",
    "version": 3
   },
   "file_extension": ".py",
   "mimetype": "text/x-python",
   "name": "python",
   "nbconvert_exporter": "python",
   "pygments_lexer": "ipython3",
   "version": "3.8.5"
  }
 },
 "nbformat": 4,
 "nbformat_minor": 1
}
