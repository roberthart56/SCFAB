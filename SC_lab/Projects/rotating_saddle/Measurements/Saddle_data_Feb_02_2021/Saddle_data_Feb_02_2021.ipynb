{
 "cells": [
  {
   "cell_type": "code",
   "execution_count": 14,
   "metadata": {},
   "outputs": [
    {
     "data": {
      "image/png": "[encoded data removed]",
      "text/plain": [
       "<Figure size 864x576 with 1 Axes>"
      ]
     },
     "metadata": {
      "needs_background": "light"
     },
     "output_type": "display_data"
    }
   ],
   "source": [
    "    import numpy as np\n",
    "    import matplotlib.pyplot as plt\n",
    "\n",
    "    #Data for P2. Feb 1, 2021.   Beta = xx.  NB P20.\n",
    "    rps_1 = np.array([0.49, 0.74, 0.88, 1.04, 1.16, 1.23, 1.30, 1.4, 1.58, 1.80, 2.05, 2.29, 2.5, 2.78, 3.01])\n",
    "    times_1 = np.array([[1.1, 0.9, 1.1, 0.9, 0.9],\n",
    "                        [1.2, 1.0, 1.1, 1.2, 1.3],\n",
    "                        [1.5, 1.3, 1.1, 1.4, 1.5],\n",
    "                        [2.1, 1.9, 1.7, 1.8, 1.9],\n",
    "                        [2.9, 2.6, 4.9, 3.5, 3.0],\n",
    "                        [17.8, 13.9, 21.9, 13.8, 14.4],\n",
    "                        [31.6, 29.9, 36.9, 39.8, 31.1],\n",
    "                        [70.3, 31.5, 33.5, 36.7, 32.2],\n",
    "                        [44.7, 41.3, 52.0, 40.2, 46.3],\n",
    "                        [40.0, 31.1, 38.5, 39.8, 31.9],\n",
    "                        [28.3, 22.8, 30.7, 24.4, 23.4],\n",
    "                        [23.8, 27.8, 36.7, 20.1, 26.0],\n",
    "                        [19.3, 26.4, 24.8, 20.7, 19.0],\n",
    "                        [32.3, 26.5, 42.0, 32.0, 28.2],\n",
    "                        [18.5, 21.4, 29.0, 24.3, 32.1]])\n",
    "                        \n",
    "    \n",
    "    mean_times_1 = np.mean(times_1, axis = 1)\n",
    "    error_bars_1 = np.std(times_1, axis = 1)/np.sqrt(5)\n",
    "    #mean_times_1\n",
    "    \n",
    "    \n",
    "       #Data for P3.  Beta = x.  NB P21. Feb 1, 2021.\n",
    "    rps_2 = np.array([0.53, 0.71, 0.86, 1.08, 1.19, 1.27, 1.33, 1.47, 1.62, 1.80, 2.03, 2.26, 2.53, 2.76, 3.04 ])\n",
    "    times_2 = np.array([[1.3, 1.8, 3.4, 2.8, 2.2],\n",
    "                        [1.8, 1.5, 1.4, 1.5, 1.7],\n",
    "                        [1.6, 1.7, 1.3, 1.9, 1.4],\n",
    "                        [2.0, 1.8, 1.8, 1.7, 1.9],\n",
    "                        [3.5, 3.3, 3.5, 3.9, 3.7],\n",
    "                        [23.0, 22.2, 22.7, 22.8, 19.4],\n",
    "                        [31.0, 30.8, 30.6, 35.7, 33.2],\n",
    "                        [37.8, 42.1, 40.1, 40.0, 45.8],\n",
    "                        [45.4, 41.3, 45.2, 34.6, 38.5],\n",
    "                        [39.8, 40.7, 43.2, 33.1, 48.0],\n",
    "                        [32.5, 30.1, 34.0, 45.7, 36.3],\n",
    "                        [31.8, 34.7, 35.1, 34.7, 34.5],\n",
    "                        [26.4, 27.0, 26.0, 26.9, 24.2],\n",
    "                        [29.4, 24.5, 30.4, 27.2, 30.2],\n",
    "                        [26.9, 27.2, 27.2, 28.1, 24.4]])\n",
    "    \n",
    "    mean_times_2 = np.mean(times_2, axis = 1)\n",
    "    error_bars_2 = np.std(times_2, axis = 1)/np.sqrt(5)\n",
    "    #mean_times_2\n",
    "    \n",
    "    \n",
    "    #Data for P4.  Beta = x.  NB p21 Feb 2, 2021.\n",
    "    rps_3 = np.array([0.58, 0.72, 0.82, 0.98, 1.15, 1.22, 1.30, 1.38, 1.50, 1.60, 1.76, 2.03, 2.25, 2.51, 2.77, 2.98])\n",
    "    times_3 = np.array([[1.2, 1.0, 0.9, 0.9, 0.8],\n",
    "                        [1.1, 1.2, 1.0, 0.9, 0.9],\n",
    "                        [1.1, 1.1, 1.3, 1.1, 1.0],\n",
    "                        [1.1, 1.1, 1.4, 1.1, 1.0],\n",
    "                        [1.3, 1.4, 1.6, 1.5, 1.5],\n",
    "                        [6.4, 5.1, 5.3, 4.8, 4.9],\n",
    "                        [9.2, 10.1, 8.5, 12.1, 10.2],\n",
    "                        [13.8, 7.9, 8.5, 10.6, 9.2],\n",
    "                        [5.4, 4.7, 5.2, 7.6, 10.7],\n",
    "                        [5.6, 4.1, 4.1, 3.4, 3.7],\n",
    "                        [3.4, 3.1, 3.0, 2.9, 2.5],\n",
    "                        [2.0, 3.2, 3.0, 3.0, 4.2],\n",
    "                        [4.5, 3.6, 2.6, 2.2, 2.2],\n",
    "                        [2.3, 3.0, 2.6, 1.9, 2.6],\n",
    "                        [2.2, 3.2, 3.4, 2.9, 4.0],\n",
    "                        [2.2, 5.1, 2.8, 2.2, 1.4]])\n",
    "    \n",
    "    mean_times_3 = np.mean(times_3, axis = 1)\n",
    "    error_bars_3 = np.std(times_3, axis = 1)/np.sqrt(5)\n",
    "    #mean_times_3\n",
    "    \n",
    "    \n",
    "    \n",
    "        #Data for P5.  Beta = x.  NB p22 Feb 02, 2021.\n",
    "    rps_4 = np.array([0.59, 0.78, 0.96, 1.10, 1.21, 1.28, 1.34, 1.44, 1.58, 1.78, 1.99, 2.26, 2.55, 2.77, 3.00])\n",
    "    times_4 = np.array([[0.8, 0.8, 0.8, 0.8, 0.7],\n",
    "                        [0.9, 0.9, 0.9, 0.9, 0.8],\n",
    "                        [0.9, 0.9, 0.9, 1.0, 1.0],\n",
    "                        [1.5, 1.4, 1.3, 1.3, 1.7],\n",
    "                        [8.3, 10.2, 10.3, 10.0, 8.9],\n",
    "                        [35.4, 23.0, 12.9, 20.5, 21.2],\n",
    "                        [17.4, 20.1, 35.8, 25.0, 50.6],\n",
    "                        [23.3, 24.7, 24.9, 26.4, 21.7],\n",
    "                        [10.3, 16.1, 14.1, 10.5, 11.7],\n",
    "                        [13.0, 7.4, 16.6, 8.6, 6.5],\n",
    "                        [6.8, 4.6, 9.2, 4.2, 6.3],\n",
    "                        [5.7, 6.4, 6.6, 6.2, 4.5],\n",
    "                        [4.3, 3.8, 4.7, 4.3, 4.5],\n",
    "                        [4.3, 4.3, 5.6, 6.8, 6.4],\n",
    "                        [3.7, 7.1, 5.8, 7.0, 5.3]])\n",
    "    \n",
    "    mean_times_4 = np.mean(times_4, axis = 1)\n",
    "    error_bars_4 = np.std(times_4, axis = 1)/np.sqrt(5)\n",
    "    #mean_times_4\n",
    "    \n",
    "     #Data for P6.  Beta = x.  NB p23 Feb 02, 2021.\n",
    "    rps_5 = np.array([0.96, 1.12, 1.28, 1.39, 1.63, 1.84, 2.03, 2.12, 2.25, 2.35, 2.52, 2.71, 2.91, 3.18, 3.39, 3.64, 4.00, 4.52])\n",
    "    times_5 = np.array([[0.94, 0.92, 0.99, 0.87, 0.98 ],\n",
    "                        [0.99, 1.1, 1.0, 0.86, 0.86],\n",
    "                        [0.99, 0.93, 0.87, 0.93, 0.99],\n",
    "                        [0.87, 1.2, 0.87, 0.85, 0.87],\n",
    "                        [1.1, 1.0, 0.75, 0.79, 0.79],\n",
    "                        [1.2, 0.9, 1.2, 0.93, 3.0],\n",
    "                        [1.1, 1.3, 1.4, 2.1, 1.3],\n",
    "                        [1.4, 1.3, 1.6, 1.9, 1.8],\n",
    "                        [10.8, 10.2, 12.4, 13.8, 12.1],\n",
    "                        [13.4, 15.6, 16.2, 17.3, 16.3],\n",
    "                        [16.0, 18.0, 12.0, 17.9, 19.2],\n",
    "                        [21.0, 14.2, 16.1, 15.4, 21.0],\n",
    "                        [15.5, 17.9, 18.9, 23.0, 20.9],\n",
    "                        [17.7, 17.9, 18.1, 15.2, 20.6],\n",
    "                        [15.9, 17.3, 16.4, 14.1, 16.8],\n",
    "                        [19.9, 17.4, 16.3, 14.5, 12.0],\n",
    "                        [10.5, 15.6, 10.2, 10.0, 11.3],\n",
    "                        [12.6, 9.0, 10.8, 9.8, 10.5]])\n",
    "    \n",
    "    mean_times_5 = np.mean(times_5, axis = 1)\n",
    "    error_bars_5 = np.std(times_5, axis = 1)/np.sqrt(5)\n",
    "    #mean_times_5\n",
    "    \n",
    "    \n",
    "    #fig = plt.figure()\n",
    "    fig = plt.figure(figsize=(12, 8))\n",
    "    plt.title('Trapping time vs. frequency')\n",
    "    plt.xlabel('Rotation speed (RPS)')\n",
    "    plt.ylabel('Trapping time (s)')\n",
    "    plt.errorbar(rps_1, mean_times_1,   yerr=error_bars_1, fmt='or')\n",
    "    plt.errorbar(rps_2, mean_times_2,   yerr=error_bars_2, fmt='ob')\n",
    "    plt.errorbar(rps_3, mean_times_3,   yerr=error_bars_3, fmt='oy')\n",
    "    plt.errorbar(rps_4, mean_times_4,   yerr=error_bars_4, fmt='og')\n",
    "    plt.errorbar(rps_5, mean_times_5,   yerr=error_bars_5, fmt='ok')\n",
    "    \n",
    "    #plt.plot(rps_1, mean_times_1, 'ro')\n",
    "    \n",
    "    plt.show()"
   ]
  },
  {
   "cell_type": "code",
   "execution_count": 11,
   "metadata": {
    "scrolled": true
   },
   "outputs": [
    {
     "data": {
      "text/plain": [
       "(array([ 0.98,  1.16,  1.36,  1.88,  3.38, 16.36, 33.86, 40.84, 44.9 ,\n",
       "        36.26, 25.92, 26.88, 22.04, 32.2 , 25.06]),\n",
       " array([ 2.3 ,  1.58,  1.58,  1.84,  3.58, 22.02, 32.26, 41.16, 41.  ,\n",
       "        40.96, 35.72, 34.16, 26.1 , 28.34, 26.76]))"
      ]
     },
     "execution_count": 11,
     "metadata": {},
     "output_type": "execute_result"
    }
   ],
   "source": [
    "mean_times_1, mean_times_2"
   ]
  },
  {
   "cell_type": "code",
   "execution_count": null,
   "metadata": {},
   "outputs": [],
   "source": []
  }
 ],
 "metadata": {
  "kernelspec": {
   "display_name": "Python 3",
   "language": "python",
   "name": "python3"
  },
  "language_info": {
   "codemirror_mode": {
    "name": "ipython",
    "version": 3
   },
   "file_extension": ".py",
   "mimetype": "text/x-python",
   "name": "python",
   "nbconvert_exporter": "python",
   "pygments_lexer": "ipython3",
   "version": "3.8.5"
  }
 },
 "nbformat": 4,
 "nbformat_minor": 1
}
