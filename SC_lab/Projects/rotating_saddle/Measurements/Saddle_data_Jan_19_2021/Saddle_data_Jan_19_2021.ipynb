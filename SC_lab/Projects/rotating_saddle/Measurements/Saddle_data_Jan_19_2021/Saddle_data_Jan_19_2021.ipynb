{
 "cells": [
  {
   "cell_type": "code",
   "execution_count": 6,
   "metadata": {},
   "outputs": [
    {
     "data": {
      "image/png": "[encoded data removed]",
      "text/plain": [
       "<Figure size 864x576 with 1 Axes>"
      ]
     },
     "metadata": {
      "needs_background": "light"
     },
     "output_type": "display_data"
    }
   ],
   "source": [
    "    import numpy as np\n",
    "    import matplotlib.pyplot as plt\n",
    "\n",
    "    #Data for P4.  Beta = 0.6.  Very negative.\n",
    "    rps_1 = np.array([0.63, 0.75, 0.90, 1.11, 1.18, 1.27, 1.33, 1.43, 1.57, 1.72, 1.95, 2.22, 2.51, 2.76, 3.00])\n",
    "    times_1 = np.array([[0.69, 0.86, 0.80, 0.99, 0.94],\n",
    "                        [0.80, 0.73, 0.68, 0.67, 0.74],\n",
    "                        [0.80, 0.80, 0.81, 0.67, 0.79],\n",
    "                        [0.80, 0.92, 0.87, 0.87, 0.99],\n",
    "                        [1.12, 1.3, 1.4, 1.3, 1.1],\n",
    "                        [5.4, 5.2, 4.7, 5.4, 5.2],\n",
    "                        [5.4, 5.3, 5.3, 4.6, 5.3],\n",
    "                        [3.9, 3.1, 3.6, 3.6, 3.5],\n",
    "                        [3.2, 2.4, 2.2, 1.9, 2.6],\n",
    "                        [2.9, 2.0, 2.0, 1.6, 2.2],\n",
    "                        [1.6, 2.4, 2.4, 2.0, 2.4],\n",
    "                        [2.0, 2.1, 1.6, 2.0, 1.5],\n",
    "                        [1.9, 2.2, 1.9, 2.1, 1.9],\n",
    "                        [1.8, 2.4, 2.2, 1.7, 2.5],\n",
    "                        [1.7, 3.0, 1.8, 2.4, 2.8]])\n",
    "    \n",
    "    mean_times_1 = np.mean(times_1, axis = 1)\n",
    "    error_bars_1 = np.std(times_1, axis = 1)/np.sqrt(5)\n",
    "    #mean_times_1\n",
    "    \n",
    "    \n",
    "    #Data for P5. Beta approx = 0.80  \n",
    "    rps_2 = np.array([0.61, 0.79, 1.02, 1.15, 1.25, 1.34, 1.45, 1.55, 1.70, 1.93, 2.18, 2.51, 2.73, 3.00])\n",
    "    times_2 = np.array([[0.9, 0.9, 1.3, 1.0, 0.9],\n",
    "                        [1.3, 1.1, 1.3, 1.1, 1.1],\n",
    "                        [1.5, 1.3, 1.3, 1.8, 1.6],\n",
    "                        [1.9, 1.8, 4.1, 2.3, 2.8],\n",
    "                        [16.8, 14.4, 12.4, 20.6, 13.5],\n",
    "                        [15.6, 18.5, 18.1, 15.5, 16.3],\n",
    "                        [21.9, 16.2, 9.2, 15.0, 12.8],\n",
    "                        [8.5, 18.2, 13.0, 12.1, 13.1],\n",
    "                        [11.2, 9.5, 8.5, 13.4, 5.5],\n",
    "                        [10.4, 9.2, 7.8, 8.5, 4.7],\n",
    "                        [6.7, 6.3, 6.4, 6.0, 4.1],\n",
    "                        [5.6, 3.7, 4.5, 4.3, 4.5],\n",
    "                        [4.5, 4.9, 6.0, 7.4, 5.3],\n",
    "                        [5.7, 7.3, 5.6, 7.1, 7.0]])\n",
    "    \n",
    "    mean_times_2 = np.mean(times_2, axis = 1)\n",
    "    error_bars_2 = np.std(times_2, axis = 1)/np.sqrt(5)\n",
    "    #mean_times_2\n",
    "    \n",
    "   \n",
    "    #mean_times_2\n",
    "    \n",
    "    #fig = plt.figure()\n",
    "    fig = plt.figure(figsize=(12, 8))\n",
    "    plt.title('Trapping time vs. frequency B=0.6(red) and B=0.8(blue)')\n",
    "    plt.xlabel('Rotation speed (RPS)')\n",
    "    plt.ylabel('Trapping time (s)')\n",
    "    plt.errorbar(rps_1, mean_times_1,   yerr=error_bars_1, fmt='or')\n",
    "    plt.errorbar(rps_2, mean_times_2,   yerr=error_bars_2, fmt='ob')\n",
    "    #plt.errorbar(rps_3, mean_times_3,   yerr=error_bars_3, fmt='oy')\n",
    "    \n",
    "    #plt.plot(rps_1, mean_times_1, 'ro')\n",
    "    \n",
    "    plt.show()"
   ]
  },
  {
   "cell_type": "code",
   "execution_count": 5,
   "metadata": {
    "scrolled": true
   },
   "outputs": [
    {
     "data": {
      "text/plain": [
       "(array([0.856, 0.724, 0.774, 0.89 , 1.244, 5.18 , 5.18 , 3.54 , 2.46 ,\n",
       "        2.14 , 2.16 , 1.84 , 2.   , 2.12 , 2.34 ]),\n",
       " array([ 1.  ,  1.18,  1.5 ,  2.58, 15.54, 16.8 , 15.02, 12.98,  9.62,\n",
       "         8.12,  5.9 ,  4.52,  5.62,  6.54]))"
      ]
     },
     "execution_count": 5,
     "metadata": {},
     "output_type": "execute_result"
    }
   ],
   "source": [
    "mean_times_1, mean_times_2"
   ]
  },
  {
   "cell_type": "code",
   "execution_count": null,
   "metadata": {},
   "outputs": [],
   "source": []
  }
 ],
 "metadata": {
  "kernelspec": {
   "display_name": "Python 3",
   "language": "python",
   "name": "python3"
  },
  "language_info": {
   "codemirror_mode": {
    "name": "ipython",
    "version": 3
   },
   "file_extension": ".py",
   "mimetype": "text/x-python",
   "name": "python",
   "nbconvert_exporter": "python",
   "pygments_lexer": "ipython3",
   "version": "3.8.5"
  }
 },
 "nbformat": 4,
 "nbformat_minor": 1
}
