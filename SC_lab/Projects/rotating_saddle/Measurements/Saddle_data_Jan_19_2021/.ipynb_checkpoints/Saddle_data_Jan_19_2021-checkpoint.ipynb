{
 "cells": [
  {
   "cell_type": "code",
   "execution_count": 7,
   "metadata": {},
   "outputs": [
    {
     "data": {
      "image/png": "[encoded data removed]",
      "text/plain": [
       "<Figure size 864x576 with 1 Axes>"
      ]
     },
     "metadata": {
      "needs_background": "light"
     },
     "output_type": "display_data"
    }
   ],
   "source": [
    "    import numpy as np\n",
    "    import matplotlib.pyplot as plt\n",
    "\n",
    "    #Data for P4.  Beta = 0.6.  Very negative.\n",
    "    rps_1 = np.array([0.63, 0.75, 0.90 1.11 1.18 1.27 1.33 1.43 1.57 1.72 1.95 2.22 2.51 2.76 3.00])\n",
    "    times_1 = np.array([[1.0, 1.1, 1.1, 1.3, 0.9],\n",
    "                        [1.3, 1.3, 1.1, 2.5, 1.1],\n",
    "                        [1.1, 1.9, 1.1, 1.1, 1.1],\n",
    "                        [2.7, 4.1, 2.4, 2.5, 2.4],\n",
    "                        [6.4, 16.3, 7.5, 10.1, 16.0],\n",
    "                        [18.9, 17.3, 17.2, 19.6, 19.9],\n",
    "                        [27.5, 22.4, 22.7, 26.8, 22.2],\n",
    "                        [40.0, 27.5, 31.3, 27.5, 29.3],\n",
    "                        [26.2, 36.7, 25.1, 29.5, 36.5],\n",
    "                        [24.0, 31.4, 37.7, 23.5, 28.8],\n",
    "                        [26.7, 29.7, 46.8, 24.6, 35.5],\n",
    "                        [28.9, 25.0, 21.3, 17.9, 31.6],\n",
    "                        [48.4, 33.7, 27.2, 23.3, 30.6],\n",
    "                        [23.2, 25.3, 32.2, 25.6, 17.5],\n",
    "                        [27.2, 16.9, 31.3, 23.1, 19.4],\n",
    "                        [18.2, 24.0, 25.3, 16.7, 20.3]])\n",
    "    \n",
    "    mean_times_1 = np.mean(times_1, axis = 1)\n",
    "    error_bars_1 = np.std(times_1, axis = 1)/np.sqrt(5)\n",
    "    #mean_times_1\n",
    "    \n",
    "    \n",
    "    #Data for P5. Beta approx = 0.80  \n",
    "    rps_2 = np.array([0.66, 0.83, 0.96, 1.16, 1.23, 1.29, 1.40, 1.54, 1.68, 1.815, 2.03, 2.20, 2.50, 2.76, 3.00])\n",
    "    times_2 = np.array([[1.5, 2.3, 1.9, 1.5, 1.9],\n",
    "                        [1.5, 1.9, 1.6, 1.4, 1.5],\n",
    "                        [1.7, 1.5, 2.4, 1.4, 1.5],\n",
    "                        [2.0, 2.4, 2.1, 2.6, 2.1],\n",
    "                        [10.2, 7.1, 7.5, 7.3, 10.3],\n",
    "                        [11.6, 14.7, 14.5, 14.6, 11.6],\n",
    "                        [18.6, 20.8, 19.0, 21.3, 21.5],\n",
    "                        [21.8, 20.6, 22.2, 19.0, 21.5],\n",
    "                        [27.5, 24.8, 27.6, 26.8, 29.9],\n",
    "                        [28.2, 28.4, 29.2, 27.1, 31.3],\n",
    "                        [25.7, 29.4, 24.9, 28.4, 24.7],\n",
    "                        [28.7, 25.4, 30.1, 30.8, 27.9],\n",
    "                        [20.8, 23.5, 24.3, 26.8, 24.8],\n",
    "                        [23.1, 24.7, 25.2, 30.8, 23.2],\n",
    "                        [26.1, 24.6, 25.1, 23.5, 21.7]])\n",
    "    \n",
    "    mean_times_2 = np.mean(times_2, axis = 1)\n",
    "    error_bars_2 = np.std(times_2, axis = 1)/np.sqrt(5)\n",
    "    #mean_times_2\n",
    "    \n",
    "   \n",
    "    #mean_times_2\n",
    "    \n",
    "    #fig = plt.figure()\n",
    "    fig = plt.figure(figsize=(12, 8))\n",
    "    plt.title('Trapping time vs. frequency B=1.06(red) and B=2.64(blue)')\n",
    "    plt.xlabel('Rotation speed (RPS)')\n",
    "    plt.ylabel('Trapping time (s)')\n",
    "    plt.errorbar(rps_1, mean_times_1,   yerr=error_bars_1, fmt='or')\n",
    "    plt.errorbar(rps_2, mean_times_2,   yerr=error_bars_2, fmt='ob')\n",
    "    #plt.errorbar(rps_3, mean_times_3,   yerr=error_bars_3, fmt='oy')\n",
    "    \n",
    "    #plt.plot(rps_1, mean_times_1, 'ro')\n",
    "    \n",
    "    plt.show()"
   ]
  },
  {
   "cell_type": "code",
   "execution_count": null,
   "metadata": {
    "collapsed": true
   },
   "outputs": [],
   "source": []
  }
 ],
 "metadata": {
  "kernelspec": {
   "display_name": "Python 3",
   "language": "python",
   "name": "python3"
  },
  "language_info": {
   "codemirror_mode": {
    "name": "ipython",
    "version": 3
   },
   "file_extension": ".py",
   "mimetype": "text/x-python",
   "name": "python",
   "nbconvert_exporter": "python",
   "pygments_lexer": "ipython3",
   "version": "3.8.5"
  }
 },
 "nbformat": 4,
 "nbformat_minor": 1
}
