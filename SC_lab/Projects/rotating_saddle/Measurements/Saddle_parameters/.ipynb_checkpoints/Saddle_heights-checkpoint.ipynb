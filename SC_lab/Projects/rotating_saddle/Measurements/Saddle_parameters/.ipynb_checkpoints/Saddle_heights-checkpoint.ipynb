{
 "cells": [
  {
   "cell_type": "code",
   "execution_count": 5,
   "metadata": {},
   "outputs": [
    {
     "data": {
      "text/plain": [
       "(0.0, 0.0025)"
      ]
     },
     "execution_count": 5,
     "metadata": {},
     "output_type": "execute_result"
    }
   ],
   "source": [
    "import numpy as np\n",
    "poly_param = np.array([0.0025, 0,  0.02299874])\n",
    "poly_param[1], poly_param[0]"
   ]
  },
  {
   "cell_type": "code",
   "execution_count": 16,
   "metadata": {},
   "outputs": [
    {
     "data": {
      "image/png": "[encoded data removed]",
      "text/plain": [
       "<Figure size 864x576 with 1 Axes>"
      ]
     },
     "metadata": {
      "needs_background": "light"
     },
     "output_type": "display_data"
    },
    {
     "data": {
      "text/plain": [
       "array([ 0.0071746 ,  0.00362346, -0.11329845])"
      ]
     },
     "execution_count": 16,
     "metadata": {},
     "output_type": "execute_result"
    }
   ],
   "source": [
    "    import numpy as np\n",
    "    import matplotlib.pyplot as plt\n",
    "    \n",
    "    #Four saddles, measured Jan 7, 2021 NB 12/20 p6.\n",
    "    #fifth saddle, P3, measured Jan 13, 2021 NB 12/20 P13\n",
    "    #sixth saddle, with large pos. curvature, measured Feb 021 2021 NB 12/20 p 22.\n",
    "    \n",
    "  #Saddle 1 (W1)\n",
    "    #pos = np.array([-80, -70, -60, -50, -40, -30, -20, -10, 0, 10, 20, 30, 40, 50, 60, 70, 80])\n",
    "    #pos = np.array([-70, -60, -50, -40, -30, -20, -10, 0, 10, 20, 30, 40, 50, 60, 70])  #for most negative curve.\n",
    "    pos = np.array([-60, -50, -40, -30, -20, -10, 0, 10, 20, 30, 40, 50, 60])  #for P6, most positive.\n",
    "   \n",
    "    z_1p = np.array([713, 554, 414, 284, 184, 103, 44, 9.5, 0.5, 6.1, 47.4, 108.1, 189.5, 290.5, 416, 596, 766])\n",
    "    z_1m = np.array([385, 534, 653, 755, 847, 914, 963, 993, 1000, 990, 962, 915, 845, 758, 649, 524, 379])\n",
    "    z_1m = z_1m - 1000\n",
    "    \n",
    "    #Convert units\n",
    "    z_1p = (z_1p/1000)*25.4     #to millimeters.\n",
    "    z_1m = (z_1m/1000)*25.4     #to millimeters.\n",
    "    \n",
    "  #Saddle 2 (W2)\n",
    "    z_2p = np.array([844, 671, 522, 390, 288, 205, 150, 114, 100, 112, 146, 199, 280, 381, 504, 656, 835 ])\n",
    "    z_2m = np.array([302, 461, 601, 723, 824, 903, 956, 990, 1000, 990, 957, 904, 829, 729, 609, 470, 310])\n",
    "    z_2m = z_2m - 1000\n",
    "    \n",
    "    #Convert units\n",
    "    z_2p = (z_2p/1000)*25.4     #to millimeters.\n",
    "    z_2m = (z_2m/1000)*25.4     #to millimeters.\n",
    "\n",
    "  #Saddle 3 (P1)\n",
    "    z_3p = np.array([674, 510, 370, 251, 157, 84, 34, 6, 0, 10, 48, 98, 176, 274, 395, 541, 705])\n",
    "    z_3m = np.array([281, 452, 595, 719, 822, 900, 954, 987, 1000, 986, 950, 888, 805, 698, 569, 420, 249])\n",
    "    z_3m = z_3m - 1000\n",
    "    \n",
    "    #Convert units\n",
    "    z_3p = (z_3p/1000)*25.4     #to millimeters.\n",
    "    z_3m = (z_3m/1000)*25.4     #to millimeters.\n",
    "    \n",
    "  #Saddle 4 (P2)\n",
    "    z_4p = np.array([680, 521, 379, 258, 168, 94, 41, 10, 0, 11, 44, 93, 171, 268, 389, 527, 687])\n",
    "    z_4m = np.array([385, 531, 654, 760, 847, 914, 961, 990, 1000, 991, 962, 914, 846, 756, 650, 522, 370])\n",
    "    z_4m = z_4m - 1000  \n",
    "    \n",
    "    #Convert units\n",
    "    z_4p = (z_4p/1000)*25.4     #to millimeters.\n",
    "    z_4m = (z_4m/1000)*25.4     #to millimeters.\n",
    "\n",
    " #Saddle 5 (P3)\n",
    "    z_5p = np.array([696, 533, 389, 268, 173, 99, 45, 12, 0, 10, 39, 88, 159, 258, 367, 510, 670])\n",
    "    z_5m = np.array([754, 808, 858, 902, 939, 965, 986, 995, 1000, 997, 984, 965, 938, 902, 857, 809, 749])\n",
    "    z_5m = z_5m - 1000  \n",
    "    \n",
    "    #Convert units\n",
    "    z_5p = (z_5p/1000)*25.4     #to millimeters.\n",
    "    z_5m = (z_5m/1000)*25.4     #to millimeters.\n",
    "\n",
    "    \n",
    "    #Saddle 6 (P4)\n",
    "    z_6p = np.array([683, 528, 387, 259, 168, 95, 43, 12, 0, 12, 45, 100, 171, 269, 395, 527, 680])\n",
    "    z_6m = np.array([208, 442, 640, 805, 930, 1022, 1078, 1100, 1088, 1038, 951, 825, 670, 470, 249])   #use position array with fewer points.  Could not get +/- 80 mm for this curve.\n",
    "    z_6m = z_6m - 1100  #one case in which max is set to 1.1\"\n",
    "    \n",
    "    #Convert units\n",
    "    z_6p = (z_6p/1000)*25.4     #to millimeters.\n",
    "    z_6m = (z_6m/1000)*25.4     #to millimeters.\n",
    "\n",
    " #Saddle 7(P5)\n",
    "    z_7p = np.array([700, 525, 385, 269, 170, 96, 41, 10, 0, 9, 37, 88, 160, 257, 372, 515, 674])\n",
    "    z_7m = np.array([110, 304, 491, 647, 767, 867, 935, 979, 1000, 989, 951, 890, 802, 683, 533, 364, 174])\n",
    "    z_7m = z_7m - 1000  \n",
    "    \n",
    "    #Convert units\n",
    "    z_7p = (z_7p/1000)*25.4     #to millimeters.\n",
    "    z_7m = (z_7m/1000)*25.4     #to millimeters.\n",
    "    \n",
    "    \n",
    "    #Saddle 8(P6)\n",
    "    z_8p = np.array([1043, 727, 465, 251, 113, 30, 0, 29, 113, 266, 461, 737, 1075])  #use shorter array for position axis.\n",
    "    z_8m = np.array([295, 449, 591, 712, 810, 891, 949, 984, 1000, 994, 965, 916, 850, 757, 648, 512, 365])\n",
    "    z_8m = z_8m - 1000  \n",
    "    \n",
    "    #Convert units\n",
    "    z_8p = (z_8p/1000)*25.4     #to millimeters.\n",
    "    z_8m = (z_8m/1000)*25.4     #to millimeters.\n",
    "\n",
    "    \n",
    "    #Choose particular data set\n",
    "    \n",
    "    z=z_8p\n",
    "\n",
    "    #make corrections due to finite radius of probe.\n",
    "    #See NB 12/20 p8.\n",
    "    #Correction is a function of position alone.\n",
    "    R = 25.4/8     #radius is 1/8\"\n",
    "    poly_2 = poly_param[0] #value from fit of square term\n",
    "    poly_1 = poly_param[1]    #value from fit of linear term\n",
    "    slope = poly_1+2*poly_2*pos\n",
    "    correction = 0 * slope    #test for zero correction.  Comment out following line to use this line.\n",
    "    correction = R*(np.sqrt(1 + slope**2) - 1)\n",
    "    z=z-correction      #All corrections decrease the number.\n",
    "    \n",
    "    \n",
    "    #fit to polynomial\n",
    "    poly_param = np.polyfit(pos, z, 2)\n",
    "    p = np.poly1d(poly_param)\n",
    "    x = np.linspace(-80,80,100)\n",
    "    z_fit= p(x)\n",
    "\n",
    "    \n",
    "    #fig = plt.figure()\n",
    "    fig = plt.figure(figsize=(12, 8))\n",
    "    plt.title('Profile of current saddle')\n",
    "    plt.xlabel('position (mm)')\n",
    "    plt.ylabel('Height (mm)')\n",
    "    plt.plot(pos, z, 'ro')\n",
    "    plt.plot(x,z_fit)\n",
    "    \n",
    "    plt.show()\n",
    "    poly_param"
   ]
  },
  {
   "cell_type": "code",
   "execution_count": 17,
   "metadata": {},
   "outputs": [
    {
     "data": {
      "text/plain": [
       "0.007174602693706803"
      ]
     },
     "execution_count": 17,
     "metadata": {},
     "output_type": "execute_result"
    }
   ],
   "source": [
    "poly_param[0]"
   ]
  },
  {
   "cell_type": "code",
   "execution_count": null,
   "metadata": {},
   "outputs": [],
   "source": []
  },
  {
   "cell_type": "code",
   "execution_count": null,
   "metadata": {},
   "outputs": [],
   "source": []
  }
 ],
 "metadata": {
  "kernelspec": {
   "display_name": "Python 3",
   "language": "python",
   "name": "python3"
  },
  "language_info": {
   "codemirror_mode": {
    "name": "ipython",
    "version": 3
   },
   "file_extension": ".py",
   "mimetype": "text/x-python",
   "name": "python",
   "nbconvert_exporter": "python",
   "pygments_lexer": "ipython3",
   "version": "3.8.5"
  }
 },
 "nbformat": 4,
 "nbformat_minor": 4
}
