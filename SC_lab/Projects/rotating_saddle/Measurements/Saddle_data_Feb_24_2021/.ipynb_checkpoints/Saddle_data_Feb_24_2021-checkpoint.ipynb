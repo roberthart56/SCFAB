{
 "cells": [
  {
   "cell_type": "code",
   "execution_count": 9,
   "metadata": {},
   "outputs": [
    {
     "data": {
      "image/png": "[encoded data removed]",
      "text/plain": [
       "<Figure size 864x576 with 1 Axes>"
      ]
     },
     "metadata": {
      "needs_background": "light"
     },
     "output_type": "display_data"
    }
   ],
   "source": [
    "    \n",
    "    #this page shows data from three sizes of steel ball on saddle P2.\n",
    "    #\n",
    "    import numpy as np\n",
    "    import matplotlib.pyplot as plt\n",
    "\n",
    "    #Data for P2. Feb 24, 2021.   NB P33. Steel ball Diameter=19mm.\n",
    "    \n",
    "    rps_1 = np.array([0.607, 0.700, 0.845, 0.983, 1.161, 1.191, 1.220, 1.263, 1.310, 1.406, 1.516, 1.619])\n",
    "    times_1 = np.array([[1.0, 1.1, 1.0, 1.1, 1.0, 1.5, 1.1, 1.2, 1.1, 1.1],\n",
    "                        [0.9, 1.0, 1.0, 1.1, 1.0, 1.0, 1.0, 0.9, 1.5, 1.1],\n",
    "                        [1.1, 1.0, 1.4, 1.0, 1.3, 1.9, 1.3, 1.1, 1.1, 1.3],\n",
    "                        [1.1, 1.6, 1.3, 1.6, 1.5, 1.2, 1.1, 1.5, 1.5, 1.9],\n",
    "                        [2.1, 2.5, 2.3, 1.9, 2.8, 3.5, 1.7, 2.1, 2.6, 2.0],\n",
    "                        [3.9, 8.1, 4.3, 2.0, 2.5, 3.5, 2.2, 2.6, 3.4, 3.6],\n",
    "                        [20.5, 11.6, 12.6, 17.7, 18.6, 11.3, 12.4, 13.4, 10.9, 7.9],\n",
    "                        [28.6, 25.4, 20.8, 23.6, 34.2, 13.1, 23.5, 21.8, 24.3, 29.3],\n",
    "                        [27.7, 26.3, 38.4, 22.4, 20.5, 27.8, 23.1, 22.4, 26.4, 27.1],\n",
    "                        [29.2, 30.5, 32.2, 25.3, 38.3, 27.4, 42.2, 33.3, 43.2, 32.6],\n",
    "                        [43.9, 38.8, 32.1, 43.5, 38.0, 38.3, 39.0, 47.2, 40.8, 42.0 ],\n",
    "                        [30.7, 34.8, 40.1, 29.5, 33.5, 33.4, 33.4, 46.4, 41.2, 34.8]]\n",
    "                       )\n",
    "                        \n",
    "    \n",
    "    mean_times_1 = np.mean(times_1, axis = 1)\n",
    "    error_bars_1 = np.std(times_1, axis = 1)\n",
    "    #mean_times_1\n",
    "    \n",
    "    \n",
    "       #Data for P2.  6.3mm steel ball.\n",
    "    rps_2 = np.array([0.632, 0.735, 0.843, 0.972, 1.073, 1.162, 1.192, 1.225, 1.266, 1.325, 1.476, 1.611])\n",
    "    times_2 = np.array([[1.2, 1.4, 1.1, 0.8, 1.5, 1.3, 1.3, 1.2, 1.1, 0.9],\n",
    "                        [1.1, 1.3, 1.1, 1.1, 1.1, 1.4, 1.4, 1.1, 1.2, 1.1],\n",
    "                        [1.4, 1.4, 1.0, 2.2, 1.3, 1.7, 1.2, 1.7, 1.3, 1.5],\n",
    "                        [4.0, 1.5, 1.1, 1.4, 2.0, 1.9, 1.4, 1.5, 1.5, 1.2],\n",
    "                        [1.5, 1.7, 1.3, 1.5, 1.5, 1.7, 1.7, 1.3, 1.9, 1.8],\n",
    "                        [1.9, 2.2, 4.3, 4.1, 2.3, 3.0, 3.5, 5.2, 2.7, 2.0],\n",
    "                        [6.8, 4.5, 4.3, 4.5, 4.5, 4.5, 4.0, 5.5, 6.1, 5.8],\n",
    "                        [6.0, 7.7, 7.3, 9.8, 8.3, 6.2, 6.7, 5.6, 7.3, 5.9],\n",
    "                        [7.6, 7.0, 7.3, 6.6, 7.6, 7.1, 7.6, 6.4, 6.1, 7.3],\n",
    "                        [8.1, 7.4, 8.3, 6.0, 8.4, 8.4, 8.4, 8.3, 6.0, 6.5],\n",
    "                        [7.8, 8.7, 8.6, 5.5, 8.5, 7.8, 7.7, 8.8, 5.7, 7.3],\n",
    "                        [6.6, 8.0, 6.7, 7.6, 6.5, 8.4, 7.6, 9.9, 7.1, 7.9]])\n",
    "                        \n",
    "    \n",
    "    mean_times_2 = np.mean(times_2, axis = 1)\n",
    "    error_bars_2 = np.std(times_2, axis = 1)\n",
    "    #mean_times_2\n",
    "    \n",
    "    \n",
    "    #Data for P4.  Beta = x.  NB p21 Feb 2, 2021.\n",
    "    rps_3 = np.array([0.610, 0.705, 0.832, 0.974, 1.094, 1.165, 1.231, 1.280, 1.315, 1.403, 1.527, 1.618])\n",
    "    times_3 = np.array([[0.8, 1.1, 0.9, 0.9, 1.0],\n",
    "                        [1.2, 2.0, 1.1, 0.8, 0.9],\n",
    "                        [0.9, 0.9, 1.1, 1.1, 1.1],\n",
    "                        [1.2, 1.3, 1.0, 0.9, 1.1],\n",
    "                        [1.7, 1.4, 1.2, 1.4, 2.2],\n",
    "                        [1.4, 1.4, 2.2, 2.1, 1.6],\n",
    "                        [9.9, 2.2, 3.7, 1.7, 1.8],\n",
    "                        [26, 17, 18, 24, 18],      #for 1.280 rps, not in order of NB, for fitting purpose.\n",
    "                        [24, 28, 24, 23, 27],   \n",
    "                        [30, 40, 33, 33, 35],\n",
    "                        [34, 32, 33, 40, 38],\n",
    "                        [35, 34, 38, 50, 41]])\n",
    "                        \n",
    "    \n",
    "    mean_times_3 = np.mean(times_3, axis = 1)\n",
    "    error_bars_3 = np.std(times_3, axis = 1)/np.sqrt(5)\n",
    "    #mean_times_3\n",
    "    \n",
    "    \n",
    "  \n",
    "    #fig = plt.figure()\n",
    "    fig = plt.figure(figsize=(12, 8))\n",
    "    plt.title('Trapping time vs. frequency')\n",
    "    plt.xlabel('Rotation speed (RPS)')\n",
    "    plt.ylabel('Trapping time (s)')\n",
    "    plt.errorbar(rps_1, mean_times_1,   yerr=error_bars_1, fmt='or')\n",
    "    plt.errorbar(rps_2, mean_times_2,   yerr=error_bars_2, fmt='ob')\n",
    "    plt.errorbar(rps_3, mean_times_3,   yerr=error_bars_3, fmt='oy')\n",
    "#     plt.errorbar(rps_4, mean_times_4,   yerr=error_bars_4, fmt='og')\n",
    "    #plt.errorbar(rps_5, mean_times_5,   yerr=error_bars_5, fmt='ok')\n",
    "    \n",
    "    #plt.plot(rps_1, mean_times_1, 'ro')\n",
    "    \n",
    "    plt.show()\n",
    "    \n",
    "    \n"
   ]
  },
  {
   "cell_type": "code",
   "execution_count": 11,
   "metadata": {
    "scrolled": false
   },
   "outputs": [
    {
     "data": {
      "text/plain": [
       "(array([ 1.12,  1.05,  1.25,  1.43,  2.35,  3.61, 13.69, 24.46, 26.21,\n",
       "        33.42, 40.36, 35.78]),\n",
       " array([1.18, 1.19, 1.47, 1.75, 1.59, 3.12, 5.05, 7.08, 7.06, 7.58, 7.64,\n",
       "        7.63]),\n",
       " array([ 0.94,  1.2 ,  1.02,  1.1 ,  1.58,  1.74,  3.86, 20.6 , 25.2 ,\n",
       "        34.2 , 35.4 , 39.6 ]))"
      ]
     },
     "execution_count": 11,
     "metadata": {},
     "output_type": "execute_result"
    }
   ],
   "source": [
    "mean_times_1, mean_times_2,  mean_times_3"
   ]
  },
  {
   "cell_type": "code",
   "execution_count": 12,
   "metadata": {},
   "outputs": [
    {
     "data": {
      "text/plain": [
       "(array([0.607, 0.7  , 0.845, 0.983, 1.161, 1.191, 1.22 , 1.263, 1.31 ,\n",
       "        1.406, 1.516, 1.619]),\n",
       " array([0.632, 0.735, 0.843, 0.972, 1.073, 1.162, 1.192, 1.225, 1.266,\n",
       "        1.325, 1.476, 1.611]),\n",
       " array([0.61 , 0.705, 0.832, 0.974, 1.094, 1.165, 1.231, 1.28 , 1.315,\n",
       "        1.403, 1.527, 1.618]))"
      ]
     },
     "execution_count": 12,
     "metadata": {},
     "output_type": "execute_result"
    }
   ],
   "source": [
    "rps_1, rps_2, rps_3"
   ]
  },
  {
   "cell_type": "code",
   "execution_count": null,
   "metadata": {},
   "outputs": [],
   "source": []
  }
 ],
 "metadata": {
  "kernelspec": {
   "display_name": "Python 3",
   "language": "python",
   "name": "python3"
  },
  "language_info": {
   "codemirror_mode": {
    "name": "ipython",
    "version": 3
   },
   "file_extension": ".py",
   "mimetype": "text/x-python",
   "name": "python",
   "nbconvert_exporter": "python",
   "pygments_lexer": "ipython3",
   "version": "3.8.5"
  }
 },
 "nbformat": 4,
 "nbformat_minor": 1
}
